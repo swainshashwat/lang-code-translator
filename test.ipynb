{
 "cells": [
  {
   "cell_type": "code",
   "execution_count": 1,
   "metadata": {},
   "outputs": [],
   "source": [
    "import re\n",
    "import copy\n",
    "import json\n",
    "import ast\n",
    "from regex.expr import RegexAdapter\n",
    "from configparser import ConfigParser"
   ]
  },
  {
   "cell_type": "code",
   "execution_count": 2,
   "metadata": {},
   "outputs": [],
   "source": [
    "reA = RegexAdapter()"
   ]
  },
  {
   "cell_type": "code",
   "execution_count": 3,
   "metadata": {},
   "outputs": [],
   "source": [
    "src = \"test/eng/test0.py\""
   ]
  },
  {
   "cell_type": "code",
   "execution_count": 4,
   "metadata": {},
   "outputs": [],
   "source": [
    "f = open(src, \"r\")\n",
    "script = f.read()"
   ]
  },
  {
   "cell_type": "code",
   "execution_count": 5,
   "metadata": {},
   "outputs": [
    {
     "name": "stdout",
     "output_type": "stream",
     "text": [
      "a = [12,4,56,1]\n",
      "\n",
      "for i in a:\n",
      "    if i>5:\n",
      "        print(\"if statement\")\n",
      "    elif i<2:\n",
      "        print(\" it's elif\")\n",
      "    else:\n",
      "        print(\" else statement\")\n",
      "        \n",
      "print(\"   print('lol') \")\n"
     ]
    }
   ],
   "source": [
    "print(script)"
   ]
  },
  {
   "cell_type": "code",
   "execution_count": 6,
   "metadata": {},
   "outputs": [
    {
     "name": "stdout",
     "output_type": "stream",
     "text": [
      "a = [12,4,56,1]\n",
      "\n",
      "for i in a:\n",
      "    यदि i>5:\n",
      "        प्रिंट(\"if statement\")\n",
      "    अन्यथा i<2:\n",
      "        प्रिंट(\" it's elif\")\n",
      "    वरना:\n",
      "        प्रिंट(\" else statement\")\n",
      "        \n",
      "प्रिंट(\"   print('lol') \")\n"
     ]
    }
   ],
   "source": [
    "print(reA.replace_all_keywords(script))"
   ]
  },
  {
   "cell_type": "code",
   "execution_count": null,
   "metadata": {},
   "outputs": [],
   "source": []
  },
  {
   "cell_type": "code",
   "execution_count": null,
   "metadata": {},
   "outputs": [],
   "source": []
  }
 ],
 "metadata": {
  "kernelspec": {
   "display_name": "Python 3",
   "language": "python",
   "name": "python3"
  },
  "language_info": {
   "codemirror_mode": {
    "name": "ipython",
    "version": 3
   },
   "file_extension": ".py",
   "mimetype": "text/x-python",
   "name": "python",
   "nbconvert_exporter": "python",
   "pygments_lexer": "ipython3",
   "version": "3.7.6"
  },
  "vscode": {
   "interpreter": {
    "hash": "d9cdcc0b908ebdaa1811ef9b7bae966d988e1b45672e9b107a34f548b7c43709"
   }
  }
 },
 "nbformat": 4,
 "nbformat_minor": 4
}
